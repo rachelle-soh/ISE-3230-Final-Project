{
  "nbformat": 4,
  "nbformat_minor": 0,
  "metadata": {
    "colab": {
      "name": "BDAA_ML_Classifier.ipynb",
      "provenance": [],
      "collapsed_sections": [],
      "include_colab_link": true
    },
    "kernelspec": {
      "name": "python3",
      "display_name": "Python 3"
    },
    "language_info": {
      "name": "python"
    }
  },
  "cells": [
    {
      "cell_type": "markdown",
      "metadata": {
        "id": "view-in-github",
        "colab_type": "text"
      },
      "source": [
        "<a href=\"https://colab.research.google.com/github/rachelle-soh/ISE-3230-Final-Project/blob/main/BDAA_ML_Classifier.ipynb\" target=\"_parent\"><img src=\"https://colab.research.google.com/assets/colab-badge.svg\" alt=\"Open In Colab\"/></a>"
      ]
    },
    {
      "cell_type": "code",
      "execution_count": null,
      "metadata": {
        "id": "1R3_AqLeOJwY"
      },
      "outputs": [],
      "source": [
        "import numpy as np\n",
        "import pandas as pd\n",
        "import sklearn\n",
        "from sklearn.model_selection import train_test_split\n",
        "import warnings\n",
        "warnings.filterwarnings( \"ignore\" )"
      ]
    },
    {
      "cell_type": "markdown",
      "source": [
        "https://raw.githubusercontent.com/jbrownlee/Datasets/master/pima-indians-diabetes.csv\n",
        "\n",
        "[Data explanation](https://raw.githubusercontent.com/jbrownlee/Datasets/master/pima-indians-diabetes.names)"
      ],
      "metadata": {
        "id": "I5TklDWhiuX7"
      }
    },
    {
      "cell_type": "code",
      "source": [
        "df = pd.read_csv('/content/pima-indians-diabetes.csv', header=None)\n",
        "df = df.rename(columns = {0:\"Pregnancies\", \n",
        "                     1:\"Glucose\", \n",
        "                     2:\"BloodPressure\", \n",
        "                     3:\"SkinThickness\", \n",
        "                     4:\"Insulin\", \n",
        "                     5:\"BMI\",\n",
        "                     6:\"DiabetesPedigreeFunction\",\n",
        "                     7:\"Age\",\n",
        "                     8:\"Outcome\"}) #1 = yes, 0 = no"
      ],
      "metadata": {
        "id": "rBXmu4zeilZ6"
      },
      "execution_count": null,
      "outputs": []
    },
    {
      "cell_type": "code",
      "source": [
        "df"
      ],
      "metadata": {
        "id": "XEaSGyq1jDC6"
      },
      "execution_count": null,
      "outputs": []
    },
    {
      "cell_type": "markdown",
      "source": [
        "\n",
        "\n",
        "---\n",
        "\n",
        "\n",
        "#Logistic regression"
      ],
      "metadata": {
        "id": "jBgXX0P9cq0u"
      }
    },
    {
      "cell_type": "code",
      "source": [
        "class LogitRegression() :\n",
        "    def __init__( self, learning_rate, iterations ) :        \n",
        "        self.learning_rate = learning_rate        \n",
        "        self.iterations = iterations\n",
        "            \n",
        "    # Function for model training    \n",
        "    def fit( self, X, Y ) :        \n",
        "        # no_of_training_examples, no_of_features        \n",
        "        self.m, self.n = X.shape        \n",
        "        # weight initialization        \n",
        "        self.W = np.zeros( self.n )        \n",
        "        self.b = 0        \n",
        "        self.X = X        \n",
        "        self.Y = Y\n",
        "          \n",
        "        # gradient descent learning\n",
        "                  \n",
        "        for i in range( self.iterations ) :            \n",
        "            self.update_weights()            \n",
        "        return self\n",
        "      \n",
        "    # Helper function to update weights in gradient descent\n",
        "      \n",
        "    def update_weights( self ) :           \n",
        "        A = 1 / ( 1 + np.exp( - ( self.X.dot( self.W ) + self.b ) ) )\n",
        "          \n",
        "        # calculate gradients        \n",
        "        tmp = ( A - self.Y.T )        \n",
        "        tmp = np.reshape( tmp, self.m )        \n",
        "        dW = np.dot( self.X.T, tmp ) / self.m         \n",
        "        db = np.sum( tmp ) / self.m \n",
        "          \n",
        "        # update weights    \n",
        "        self.W = self.W - self.learning_rate * dW    \n",
        "        self.b = self.b - self.learning_rate * db\n",
        "          \n",
        "        return self\n",
        "      \n",
        "    # Hypothetical function  h( x ) \n",
        "      \n",
        "    def predict( self, X ) :    \n",
        "        Z = 1 / ( 1 + np.exp( - ( X.dot( self.W ) + self.b ) ) )        \n",
        "        Y = np.where( Z > 0.5, 1, 0 )        \n",
        "        return Y"
      ],
      "metadata": {
        "id": "jfDefys0ctoE"
      },
      "execution_count": null,
      "outputs": []
    },
    {
      "cell_type": "code",
      "source": [
        "X = df.iloc[:,:-1].values \n",
        "Y = df.iloc[:,-1:].values\n",
        "      \n",
        "# Splitting dataset into train and test set\n",
        "X_train, X_test, Y_train, Y_test = train_test_split(\n",
        "   X, Y, test_size = 1/3, random_state = 1 ) # taking away random state really shows the weaknesses in this model\n",
        "\n",
        "\n",
        "# Model training    \n",
        "model = LogitRegression( learning_rate = 0.01, iterations = 1000 )\n",
        "      \n",
        "model.fit( X_train, Y_train )  \n",
        "\n",
        "#### to compare our model's accuracy with sklearn model\n",
        "from sklearn.linear_model import LogisticRegression\n",
        "####\n",
        "model1 = LogisticRegression()    \n",
        "model1.fit( X_train, Y_train)\n",
        "      \n",
        "# Prediction on test set\n",
        "Y_pred = model.predict( X_test )    \n",
        "Y_pred1 = model1.predict( X_test )\n",
        "\n",
        "# measure performance    \n",
        "correctly_classified = 0    \n",
        "correctly_classified1 = 0\n",
        "      \n",
        "# counter    \n",
        "count = 0    \n",
        "for count in range( np.size( Y_pred ) ) :  \n",
        "        \n",
        "   if Y_test[count] == Y_pred[count] :            \n",
        "            correctly_classified = correctly_classified + 1\n",
        "          \n",
        "   if Y_test[count] == Y_pred1[count] :            \n",
        "            correctly_classified1 = correctly_classified1 + 1\n",
        "              \n",
        "   count = count + 1\n",
        "          \n",
        "print( \"Accuracy on test set by our model       :  \", ( \n",
        "      correctly_classified / count ) * 100 )\n",
        "print( \"Accuracy on test set by sklearn model   :  \", ( \n",
        "      correctly_classified1 / count ) * 100 )\n",
        "  "
      ],
      "metadata": {
        "id": "zqV_CNWi0x4r"
      },
      "execution_count": null,
      "outputs": []
    },
    {
      "cell_type": "code",
      "source": [
        "#### Now using the above example try to fill in the code to run a logistic regression model using only sklearn functions\n",
        "from sklearn.linear_model import LogisticRegression\n",
        "from sklearn import metrics #Import scikit-learn metrics module for accuracy calculation\n",
        "\n",
        "# Split data into X and Y subsets\n",
        "X = df.iloc[:,:-1].values\n",
        "Y = df.iloc[:,-1:].values\n",
        "\n",
        "####################################\n",
        "## Another way to do the above \n",
        "# feature_cols = ['pregnant', 'insulin', 'bmi', 'age','glucose','bp','pedigree']\n",
        "# X = pima[feature_cols] \n",
        "# Y = pima.label \n",
        "####################################\n",
        "\n",
        "# Split data into test and train sets\n",
        "X_train, X_test, Y_train, Y_test = train_test_split(\n",
        "   X, Y, test_size = 1/3)\n",
        "\n",
        "model = LogisticRegression()    \n",
        "model.fit( X_train, Y_train)\n",
        "\n",
        "# Prediction on test set\n",
        "Y_pred = model.predict( X_test )          \n",
        "\n",
        "print(\"Accuracy on test set by logistic regression sklearn model   :  \", metrics.accuracy_score(Y_test, Y_pred) * 100)"
      ],
      "metadata": {
        "id": "gsLEoLTXvNFC"
      },
      "execution_count": null,
      "outputs": []
    },
    {
      "cell_type": "markdown",
      "source": [
        "\n",
        "\n",
        "---\n",
        "\n",
        "\n",
        "#Decision tree"
      ],
      "metadata": {
        "id": "_jgb8OAuct07"
      }
    },
    {
      "cell_type": "code",
      "source": [
        "from sklearn.tree import DecisionTreeClassifier # Import Decision Tree Classifier\n",
        "from sklearn import metrics #Import scikit-learn metrics module for accuracy calculation\n",
        "\n",
        "X = df.iloc[:,:-1].values #Features\n",
        "Y = df.iloc[:,-1:].values #Label\n",
        "\n",
        "\n",
        "X_train, X_test, Y_train, Y_test = train_test_split(X, Y, test_size= 1/3, random_state=1) # 33% test\n",
        "\n",
        "model = DecisionTreeClassifier()\n",
        "model.fit( X_train, Y_train )\n",
        "\n",
        "Y_pred = model.predict( X_test )\n",
        "\n",
        "print(\"Accuracy on test set by decision tree sklearn model   :  \", metrics.accuracy_score(Y_test, Y_pred) * 100)"
      ],
      "metadata": {
        "id": "9WJ58Pvicveh"
      },
      "execution_count": null,
      "outputs": []
    },
    {
      "cell_type": "markdown",
      "source": [
        "\n",
        "\n",
        "---\n",
        "\n",
        "# Naive Bayes"
      ],
      "metadata": {
        "id": "Wd1JPXXniVps"
      }
    },
    {
      "cell_type": "code",
      "source": [
        "from sklearn.naive_bayes import GaussianNB\n",
        "from sklearn import metrics\n",
        "\n",
        "X = df.iloc[:,:-1].values #Features\n",
        "Y = df.iloc[:,-1:].values #Label\n",
        "\n",
        "\n",
        "X_train, X_test, Y_train, Y_test = train_test_split(X, Y, test_size= 1/3, random_state=1) # 33% test\n",
        "\n",
        "model = GaussianNB()\n",
        "model.fit( X_train, Y_train )\n",
        "\n",
        "Y_pred = model.predict( X_test )\n",
        "\n",
        "print(\"Accuracy on test set by naive bayes sklearn model   :  \", metrics.accuracy_score(Y_test, Y_pred) * 100)"
      ],
      "metadata": {
        "id": "dvkWVZvNiXIn"
      },
      "execution_count": null,
      "outputs": []
    },
    {
      "cell_type": "markdown",
      "source": [
        "\n",
        "\n",
        "---\n",
        "\n",
        "\n",
        "#Random Forest"
      ],
      "metadata": {
        "id": "yFD6vetncvvq"
      }
    },
    {
      "cell_type": "code",
      "source": [
        "from sklearn.ensemble import RandomForestClassifier\n",
        "from sklearn import metrics\n",
        "\n",
        "X = df.iloc[:,:-1].values #Features\n",
        "Y = df.iloc[:,-1:].values #Label\n",
        "\n",
        "\n",
        "X_train, X_test, Y_train, Y_test = train_test_split(X, Y, test_size= 1/3, random_state=1) # 33% test\n",
        "\n",
        "model = RandomForestClassifier(n_estimators=100)\n",
        "model.fit( X_train, Y_train )\n",
        "\n",
        "Y_pred = model.predict( X_test )\n",
        "\n",
        "print(\"Accuracy on test set by random forest sklearn model   :  \", metrics.accuracy_score(Y_test, Y_pred) * 100)"
      ],
      "metadata": {
        "id": "eg1kJAA4cx_G"
      },
      "execution_count": null,
      "outputs": []
    },
    {
      "cell_type": "code",
      "source": [
        "# we can also make a prediction for a certain type of individual\n",
        "\n",
        "model.predict([[0, 80, 65, 20, 0, 23.1, 0.383, 29]])\n",
        "\n",
        "#model.predict([[6, 148, 72, 35, 0, 33.6, 0.627, 50]])"
      ],
      "metadata": {
        "id": "iOI2lZQiG91x"
      },
      "execution_count": null,
      "outputs": []
    },
    {
      "cell_type": "markdown",
      "source": [
        "\n",
        "\n",
        "---\n",
        "# SVM"
      ],
      "metadata": {
        "id": "5rv4lPincyHn"
      }
    },
    {
      "cell_type": "code",
      "source": [
        "from sklearn import svm\n",
        "from sklearn import metrics\n",
        "\n",
        "X = df.iloc[:,:-1].values #Features\n",
        "Y = df.iloc[:,-1:].values #Label\n",
        "\n",
        "\n",
        "X_train, X_test, Y_train, Y_test = train_test_split(X, Y, test_size= 1/3, random_state=1) # 33% test\n",
        "\n",
        "model = svm.SVC(kernel='linear')\n",
        "model.fit( X_train, Y_train )\n",
        "\n",
        "Y_pred = model.predict( X_test )\n",
        "\n",
        "print(\"Accuracy on test set by support vector sklearn model   :  \", metrics.accuracy_score(Y_test, Y_pred) * 100)"
      ],
      "metadata": {
        "id": "sWwTAinCczN_"
      },
      "execution_count": null,
      "outputs": []
    },
    {
      "cell_type": "markdown",
      "source": [
        "Comparing and picking a best model"
      ],
      "metadata": {
        "id": "SKza7ddpDbCo"
      }
    },
    {
      "cell_type": "code",
      "source": [
        "from sklearn import svm\n",
        "from sklearn.ensemble import RandomForestClassifier\n",
        "from sklearn.tree import DecisionTreeClassifier\n",
        "from sklearn.linear_model import LogisticRegression\n",
        "from sklearn import metrics\n",
        "\n",
        "####\n",
        "# Implement all 4 models we looked at today\n",
        "# Then we'll compare them and choose a winner\n",
        "####\n",
        "\n",
        "X = df.iloc[:,:-1].values #Features\n",
        "Y = df.iloc[:,-1:].values #Label\n",
        "\n",
        "X_train, X_test, Y_train, Y_test = train_test_split(X, Y, test_size= 1/3, random_state=1) # 33% test\n",
        "\n",
        "svm_model = svm.SVC(kernel='linear')\n",
        "svm_model.fit( X_train, Y_train )\n",
        "rand_model = RandomForestClassifier(n_estimators=500)\n",
        "rand_model.fit( X_train, Y_train )\n",
        "naive_model = GaussianNB()\n",
        "naive_model.fit( X_train, Y_train )\n",
        "dec_model = DecisionTreeClassifier()\n",
        "dec_model.fit( X_train, Y_train )\n",
        "log_model = LogisticRegression()    \n",
        "log_model.fit( X_train, Y_train)\n",
        "\n",
        "\n",
        "\n",
        "log_pred = log_model.predict( X_test )          \n",
        "dec_pred = dec_model.predict( X_test )\n",
        "naive_pred = naive_model.predict( X_test )\n",
        "rand_pred = rand_model.predict( X_test )\n",
        "svm_pred = svm_model.predict( X_test )\n",
        "\n",
        "\n",
        "\n",
        "print(\"Accuracy on test set by logistic regression sklearn model   :  \", metrics.accuracy_score(Y_test, log_pred) * 100)\n",
        "print(\"Accuracy on test set by decision tree sklearn model   :  \", metrics.accuracy_score(Y_test, dec_pred) * 100)\n",
        "print(\"Accuracy on test set by naive bayes sklearn model   :  \", metrics.accuracy_score(Y_test, naive_pred) * 100)\n",
        "print(\"Accuracy on test set by random forest sklearn model   :  \", metrics.accuracy_score(Y_test, rand_pred) * 100)\n",
        "print(\"Accuracy on test set by support vector machine sklearn model   :  \", metrics.accuracy_score(Y_test, svm_pred) * 100)"
      ],
      "metadata": {
        "id": "UJFOAH5RDdQy"
      },
      "execution_count": null,
      "outputs": []
    },
    {
      "cell_type": "markdown",
      "source": [
        "Some other performance metrics"
      ],
      "metadata": {
        "id": "sOon9c-kZ-z4"
      }
    },
    {
      "cell_type": "code",
      "source": [
        "#Confusion Matrix\n",
        "metrics.confusion_matrix(Y_test, log_pred)"
      ],
      "metadata": {
        "id": "F4zPDs0bZ-bE"
      },
      "execution_count": null,
      "outputs": []
    }
  ]
}